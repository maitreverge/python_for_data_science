{
 "cells": [
  {
   "cell_type": "markdown",
   "id": "121156ed",
   "metadata": {},
   "source": [
    "## Pandas `DataFrame`"
   ]
  },
  {
   "cell_type": "markdown",
   "id": "b3bedc97",
   "metadata": {},
   "source": [
    "`DataFrame` is a 2-dimensional labeled data structure with columns of potentially different types.\n",
    "\n",
    "It can be of type:\n",
    "- `Lists`, `Dicts`, `pd.Series`\n",
    "- 2D NumPy Array\n",
    "- Another `DataFrame`"
   ]
  },
  {
   "cell_type": "markdown",
   "id": "e2979e38",
   "metadata": {},
   "source": []
  }
 ],
 "metadata": {
  "language_info": {
   "name": "python"
  }
 },
 "nbformat": 4,
 "nbformat_minor": 5
}
