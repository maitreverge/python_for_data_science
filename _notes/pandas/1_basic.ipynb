{
 "cells": [
  {
   "cell_type": "markdown",
   "id": "b96fed8a",
   "metadata": {},
   "source": [
    "# **INTRODUCTION TO PANDAS**\n"
   ]
  },
  {
   "cell_type": "markdown",
   "id": "fbcd12d0",
   "metadata": {},
   "source": [
    "## INTRO TO DATA STRUCTURES\n"
   ]
  },
  {
   "cell_type": "code",
   "execution_count": null,
   "id": "a234f5eb",
   "metadata": {},
   "outputs": [],
   "source": [
    "import pandas as pd\n",
    "import numpy as np"
   ]
  },
  {
   "cell_type": "markdown",
   "id": "2d1ff4ac",
   "metadata": {},
   "source": [
    "In Panda module, there is a data type called `Series`.\n",
    "\n",
    "This is a **ONE** labelled dimentionnal array, which can be prototypeds like this :\n",
    "\n",
    "```python\n",
    "s = pd.Series(data, index=index)\n",
    "```\n"
   ]
  },
  {
   "cell_type": "code",
   "execution_count": null,
   "id": "96307a27",
   "metadata": {},
   "outputs": [],
   "source": [
    "original_data = [1, 2, 3, 4, 5]\n",
    "panda_data = pd.Series(\n",
    "    original_data,\n",
    "    index=[\n",
    "        \"nb1\",\n",
    "        \"nb2\",\n",
    "        \"nb3\",\n",
    "        \"nb4\",\n",
    "        \"nb5\",\n",
    "    ],\n",
    ")\n",
    "print(panda_data)"
   ]
  },
  {
   "cell_type": "markdown",
   "id": "0a0c434f",
   "metadata": {},
   "source": [
    "Data can be instancied for various sources :\n",
    "\n",
    "- `NumPy Arrays`\n",
    "- `Dicts`\n",
    "- `Lists`\n"
   ]
  },
  {
   "cell_type": "code",
   "execution_count": null,
   "id": "747871df",
   "metadata": {},
   "outputs": [],
   "source": [
    "numpy_array = np.array([1, 4, 3, 2, 8])\n",
    "np_arr = pd.Series(numpy_array)\n",
    "print(np_arr)"
   ]
  },
  {
   "cell_type": "code",
   "execution_count": null,
   "id": "ccb03ab4",
   "metadata": {},
   "outputs": [],
   "source": [
    "my_dict = {\"a\": 1, \"b\": 2, \"c\": 3, \"d\": 4}\n",
    "np_arr = pd.Series(my_dict)\n",
    "print(np_arr)"
   ]
  },
  {
   "cell_type": "markdown",
   "id": "410ca5ba",
   "metadata": {},
   "source": [
    "**`IMPORANT`**\n",
    "\n",
    "If the data is a single data such as an `int`, `str`, the data will be replicated as much times as there is indexes."
   ]
  },
  {
   "cell_type": "code",
   "execution_count": null,
   "id": "330b1b13",
   "metadata": {},
   "outputs": [],
   "source": [
    "original_data = 5\n",
    "panda_data = pd.Series(\n",
    "    original_data,\n",
    "    index=[\n",
    "        \"nb1\",\n",
    "        \"nb2\",\n",
    "        \"nb3\",\n",
    "        \"nb4\",\n",
    "        \"nb5\",\n",
    "    ],\n",
    ")\n",
    "print(panda_data)"
   ]
  }
 ],
 "metadata": {
  "kernelspec": {
   "display_name": ".venv",
   "language": "python",
   "name": "python3"
  },
  "language_info": {
   "codemirror_mode": {
    "name": "ipython",
    "version": 3
   },
   "file_extension": ".py",
   "mimetype": "text/x-python",
   "name": "python",
   "nbconvert_exporter": "python",
   "pygments_lexer": "ipython3",
   "version": "3.10.12"
  }
 },
 "nbformat": 4,
 "nbformat_minor": 5
}
