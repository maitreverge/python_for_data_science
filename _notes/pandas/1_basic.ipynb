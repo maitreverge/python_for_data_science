{
 "cells": [
  {
   "cell_type": "markdown",
   "id": "b96fed8a",
   "metadata": {},
   "source": [
    "# **INTRODUCTION TO PANDAS**\n"
   ]
  },
  {
   "cell_type": "markdown",
   "id": "fbcd12d0",
   "metadata": {},
   "source": [
    "## INTRO TO DATA STRUCTURES\n"
   ]
  },
  {
   "cell_type": "code",
   "execution_count": null,
   "id": "a234f5eb",
   "metadata": {},
   "outputs": [],
   "source": [
    "import pandas as pd\n",
    "import numpy as np"
   ]
  },
  {
   "cell_type": "markdown",
   "id": "2d1ff4ac",
   "metadata": {},
   "source": [
    "In Panda module, there is a data type called `Series`.\n",
    "\n",
    "This is a **ONE** labelled dimentionnal array, which can be prototypeds like this :\n",
    "\n",
    "```python\n",
    "s = pd.Series(data, index=index)\n",
    "```\n"
   ]
  },
  {
   "cell_type": "code",
   "execution_count": null,
   "id": "96307a27",
   "metadata": {},
   "outputs": [],
   "source": [
    "original_data = [1, 2, 3, 4, 5]\n",
    "panda_data = pd.Series(\n",
    "    original_data,\n",
    "    index=[\n",
    "        \"nb1\",\n",
    "        \"nb2\",\n",
    "        \"nb3\",\n",
    "        \"nb4\",\n",
    "        \"nb5\",\n",
    "    ],\n",
    ")\n",
    "print(panda_data)"
   ]
  },
  {
   "cell_type": "markdown",
   "id": "0a0c434f",
   "metadata": {},
   "source": [
    "Data can be instancied for various sources :\n",
    "\n",
    "- `NumPy Arrays`\n",
    "- `Dicts`\n",
    "- `Lists`\n"
   ]
  },
  {
   "cell_type": "code",
   "execution_count": null,
   "id": "747871df",
   "metadata": {},
   "outputs": [],
   "source": [
    "numpy_array = np.array([1, 4, 3, 2, 8])\n",
    "np_arr = pd.Series(numpy_array)\n",
    "print(np_arr)"
   ]
  },
  {
   "cell_type": "code",
   "execution_count": null,
   "id": "ccb03ab4",
   "metadata": {},
   "outputs": [],
   "source": [
    "my_dict = {\"a\": 1, \"b\": 2, \"c\": 3, \"d\": 4}\n",
    "np_arr = pd.Series(my_dict)\n",
    "print(np_arr)"
   ]
  },
  {
   "cell_type": "markdown",
   "id": "410ca5ba",
   "metadata": {},
   "source": [
    "**`IMPORTANT`**\n",
    "\n",
    "If the data is a single data such as an `int`, `str`, the data will be replicated as much times as there is indexes."
   ]
  },
  {
   "cell_type": "code",
   "execution_count": null,
   "id": "330b1b13",
   "metadata": {},
   "outputs": [],
   "source": [
    "original_data = 5\n",
    "panda_data = pd.Series(\n",
    "    original_data,\n",
    "    index=[\n",
    "        \"nb1\",\n",
    "        \"nb2\",\n",
    "        \"nb3\",\n",
    "        \"nb4\",\n",
    "        \"nb5\",\n",
    "    ],\n",
    ")\n",
    "print(panda_data)"
   ]
  },
  {
   "cell_type": "markdown",
   "id": "1f2a2221",
   "metadata": {},
   "source": [
    "*INDEXING SERIES*\n",
    "\n",
    "`pd.Series()` acts up like Python dicts when it comes to indexing"
   ]
  },
  {
   "cell_type": "code",
   "execution_count": null,
   "id": "aedfcd39",
   "metadata": {},
   "outputs": [],
   "source": [
    "original_data = [1,2,3,4,5]\n",
    "panda_data = pd.Series(\n",
    "    original_data,\n",
    "    index=[\n",
    "        \"nb1\",\n",
    "        \"nb2\",\n",
    "        \"nb3\",\n",
    "        \"nb4\",\n",
    "        \"nb5\",\n",
    "    ],\n",
    ")\n",
    "print(panda_data[\"nb3\"])\n",
    "# The first value are searching for indexes, not values\n",
    "print(\"hello\" in panda_data)\n",
    "print('nb3' in panda_data)"
   ]
  },
  {
   "cell_type": "markdown",
   "id": "b8a3129d",
   "metadata": {},
   "source": [
    "When incorrectly indexing within the `pd.Series`, sometimes it can raises errors"
   ]
  },
  {
   "cell_type": "code",
   "execution_count": null,
   "id": "c21b4a25",
   "metadata": {},
   "outputs": [],
   "source": [
    "original_data = [1,2,3,4,5]\n",
    "panda_data = pd.Series(\n",
    "    original_data,\n",
    "    index=[\n",
    "        \"nb1\",\n",
    "        \"nb2\",\n",
    "        \"nb3\",\n",
    "        \"nb4\",\n",
    "        \"nb5\",\n",
    "    ],\n",
    ")\n",
    "# This line fails\n",
    "print(panda_data[\"nope\"])"
   ]
  },
  {
   "cell_type": "markdown",
   "id": "48749e82",
   "metadata": {},
   "source": [
    "Instead, we must use the method `.get()`\n",
    "```python\n",
    "pd.Series().get()\n",
    "```\n",
    "This method returns None of the specified data is not present"
   ]
  },
  {
   "cell_type": "code",
   "execution_count": null,
   "id": "b5f97411",
   "metadata": {},
   "outputs": [],
   "source": [
    "original_data = [1,2,3,4,5]\n",
    "panda_data = pd.Series(\n",
    "    original_data,\n",
    "    index=[\n",
    "        \"nb1\",\n",
    "        \"nb2\",\n",
    "        \"nb3\",\n",
    "        \"nb4\",\n",
    "        \"nb5\",\n",
    "    ],\n",
    ")\n",
    "# The method .get() does returns `None`\n",
    "print(panda_data.get(\"nope\"))"
   ]
  },
  {
   "cell_type": "markdown",
   "id": "4dfade8d",
   "metadata": {},
   "source": [
    "NumPy arrays and Pandas Series shares a lot in common when it comes to array arythmetics"
   ]
  },
  {
   "cell_type": "code",
   "execution_count": null,
   "id": "6365944b",
   "metadata": {},
   "outputs": [],
   "source": [
    "original_data = [1,2,3,4,5]\n",
    "panda_data = pd.Series(\n",
    "    original_data,\n",
    "    index=[\n",
    "        \"nb1\",\n",
    "        \"nb2\",\n",
    "        \"nb3\",\n",
    "        \"nb4\",\n",
    "        \"nb5\",\n",
    "    ],\n",
    ")\n",
    "s2 = panda_data + panda_data\n",
    "print(s2)\n",
    "print(\"=====\")\n",
    "s3 = panda_data - panda_data\n",
    "print(s3)\n",
    "print(\"=====\")\n",
    "s4 = np.exp(panda_data)\n",
    "print(s4)"
   ]
  },
  {
   "cell_type": "markdown",
   "id": "f2a52316",
   "metadata": {},
   "source": [
    "`Series` also have a name attribute :"
   ]
  },
  {
   "cell_type": "code",
   "execution_count": 24,
   "id": "6236dfb2",
   "metadata": {},
   "outputs": [
    {
     "name": "stdout",
     "output_type": "stream",
     "text": [
      "0   -1.241563\n",
      "1    1.151075\n",
      "2    1.382659\n",
      "3    0.535218\n",
      "4    0.622190\n",
      "Name: something, dtype: float64\n"
     ]
    }
   ],
   "source": [
    "s = pd.Series(np.random.randn(5), name=\"something\")\n",
    "print(s)"
   ]
  }
 ],
 "metadata": {
  "kernelspec": {
   "display_name": ".venv",
   "language": "python",
   "name": "python3"
  },
  "language_info": {
   "codemirror_mode": {
    "name": "ipython",
    "version": 3
   },
   "file_extension": ".py",
   "mimetype": "text/x-python",
   "name": "python",
   "nbconvert_exporter": "python",
   "pygments_lexer": "ipython3",
   "version": "3.10.12"
  }
 },
 "nbformat": 4,
 "nbformat_minor": 5
}
